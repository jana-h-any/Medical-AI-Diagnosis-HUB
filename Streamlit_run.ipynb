{
 "cells": [
  {
   "cell_type": "code",
   "execution_count": null,
   "id": "4dc54313-c480-4d17-a250-33a8357321c3",
   "metadata": {},
   "outputs": [],
   "source": [
    "!streamlit run Home.py"
   ]
  },
  {
   "cell_type": "code",
   "execution_count": 6,
   "id": "369d5010-f77e-49d9-9757-d464193fd8f9",
   "metadata": {},
   "outputs": [],
   "source": [
    "import streamlit as st\n",
    "import torch\n",
    "import torchvision\n",
    "import sklearn\n",
    "import PIL\n",
    "import pandas \n",
    "# =========================================\n",
    "# =========================================\n",
    "\n",
    "import joblib\n",
    "import base64"
   ]
  },
  {
   "cell_type": "code",
   "execution_count": 9,
   "id": "6708c101-2a55-43cc-951c-7711d3c9adda",
   "metadata": {},
   "outputs": [
    {
     "name": "stdout",
     "output_type": "stream",
     "text": [
      "streamlit version: 1.37.1\n",
      "torch version: 2.8.0+cpu\n",
      "torchvision version: 0.23.0+cpu\n",
      "scikit-learn version: 1.6.1\n",
      "pandas version: 2.2.2\n",
      "joblib version: 1.4.2\n",
      "PIL version: 10.4.0\n"
     ]
    }
   ],
   "source": [
    "print(\"streamlit version:\", st.__version__)\n",
    "print(\"torch version:\", torch.__version__)\n",
    "print(\"torchvision version:\", torchvision.__version__)\n",
    "print(\"scikit-learn version:\", sklearn.__version__)\n",
    "print(\"pandas version:\", pd.__version__)\n",
    "print(\"joblib version:\", joblib.__version__)\n",
    "print(\"PIL version:\", PIL.__version__)"
   ]
  }
 ],
 "metadata": {
  "kernelspec": {
   "display_name": "Python 3 (ipykernel)",
   "language": "python",
   "name": "python3"
  },
  "language_info": {
   "codemirror_mode": {
    "name": "ipython",
    "version": 3
   },
   "file_extension": ".py",
   "mimetype": "text/x-python",
   "name": "python",
   "nbconvert_exporter": "python",
   "pygments_lexer": "ipython3",
   "version": "3.12.7"
  }
 },
 "nbformat": 4,
 "nbformat_minor": 5
}
